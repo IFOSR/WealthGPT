{
 "cells": [
  {
   "cell_type": "markdown",
   "metadata": {
    "id": "cHgpJN1uzD8B"
   },
   "source": [
    "# 训练教程\n"
   ]
  },
  {
   "cell_type": "markdown",
   "metadata": {
    "id": "2meQHBlHxcsi"
   },
   "source": [
    "## Install Dependencies"
   ]
  },
  {
   "cell_type": "code",
   "execution_count": null,
   "metadata": {
    "id": "quRXOPaZwmwz"
   },
   "outputs": [],
   "source": [
    "!pip install transformers==4.28.1\n",
    "!pip install git+https://github.com/huggingface/peft.git@13e53fc\n",
    "!pip install datasets\n",
    "!pip install sentencepiece\n",
    "!pip install deepspeed"
   ]
  },
  {
   "cell_type": "markdown",
   "metadata": {
    "id": "ji21WFqexASI"
   },
   "source": [
    "## 克隆代码\n",
    "\n",
    "\n",
    "\n"
   ]
  },
  {
   "cell_type": "code",
   "execution_count": null,
   "metadata": {
    "id": "dulrlPMexFNN"
   },
   "outputs": [],
   "source": [
    "!git clone https://github.com/IFOSR/BuffettGPT.git"
   ]
  },
  {
   "cell_type": "markdown",
   "metadata": {
    "id": "pqH_h_ZAz4_e"
   },
   "source": [
    "## 指令微调 Alpaca-7B\n",
    "\n",
    "参考chinese llama的博客 https://github.com/ymcui/Chinese-LLaMA-Alpaca/wiki/SFT-Script 设置对应的参数"
   ]
  },
  {
   "cell_type": "code",
   "execution_count": null,
   "metadata": {
    "id": "IhrAVNUKSw9_"
   },
   "outputs": [],
   "source": [
    "# 对应目录记得改成自己的\n",
    "\n",
    "!cd [脚本地址]/train && torchrun --nnodes 1 --nproc_per_node 1 run_clm_sft_with_peft.py \\\n",
    "    --deepspeed ds_zero2_no_offload.json \\\n",
    "    --model_name_or_path decapoda-research/llama-7b-hf \\\n",
    "    --tokenizer_name_or_path ziqingyang/chinese-alpaca-lora-7b \\\n",
    "    --dataset_dir [数据地址]/data \\\n",
    "    --validation_split_percentage 0.001 \\\n",
    "    --per_device_train_batch_size 1 \\\n",
    "    --do_train \\\n",
    "    --fp16 \\\n",
    "    --seed $RANDOM \\\n",
    "    --max_steps 10000 \\\n",
    "    --lr_scheduler_type cosine \\\n",
    "    --learning_rate 1e-4 \\\n",
    "    --warmup_ratio 0.03 \\\n",
    "    --weight_decay 0 \\\n",
    "    --logging_strategy steps \\\n",
    "    --logging_steps 10000 \\\n",
    "    --save_strategy steps \\\n",
    "    --save_total_limit 2 \\\n",
    "    --save_steps 10000 \\\n",
    "    --gradient_accumulation_steps 1 \\\n",
    "    --preprocessing_num_workers 8 \\\n",
    "    --max_seq_length 512 \\\n",
    "    --output_dir [输出地址] \\\n",
    "    --overwrite_output_dir \\\n",
    "    --ddp_timeout 30000 \\\n",
    "    --logging_first_step True \\\n",
    "    --torch_dtype float16 \\\n",
    "    --peft_path [peft 模型的地址] \\\n",
    "    --gradient_checkpointing \\\n",
    "    --ddp_find_unused_parameters False"
   ]
  },
  {
   "cell_type": "markdown",
   "metadata": {
    "id": "FapMcYEC-fIh"
   },
   "source": [
    "# 合并模型\n",
    "参考Chinese llama的文档：https://github.com/ymcui/Chinese-LLaMA-Alpaca/wiki/%E5%9C%A8%E7%BA%BF%E6%A8%A1%E5%9E%8B%E5%90%88%E5%B9%B6%E4%B8%8E%E8%BD%AC%E6%8D%A2"
   ]
  },
  {
   "cell_type": "code",
   "execution_count": null,
   "metadata": {
    "id": "VnLFI6p60K_5"
   },
   "outputs": [],
   "source": [
    "!python merge/merge_llama_with_chinese_lora.py \\\n",
    "    --base_model  decapoda-research/llama-7b-hf\\\n",
    "    --lora_model ziqingyang/chinese-llama-plus-lora-7b,[你训练完的模型的地址]/sft_lora_model \\\n",
    "    --output_type pth \\\n",
    "    --output_dir llama-combined-ch"
   ]
  },
  {
   "cell_type": "markdown",
   "metadata": {
    "id": "qdSoX7EQ_TFa"
   },
   "source": [
    "# llama.cpp量化部署\n"
   ]
  },
  {
   "cell_type": "markdown",
   "metadata": {
    "id": "MGa2cu_O_Z8A"
   },
   "source": [
    "## 克隆代码和编译"
   ]
  },
  {
   "cell_type": "code",
   "execution_count": null,
   "metadata": {
    "id": "ZrUrpyJe_fPJ"
   },
   "outputs": [],
   "source": [
    "!git clone https://github.com/ggerganov/llama.cpp"
   ]
  },
  {
   "cell_type": "code",
   "execution_count": null,
   "metadata": {
    "id": "eeYQtt8dZRI7"
   },
   "outputs": [],
   "source": [
    "\n",
    "!cd llama.cpp && make"
   ]
  },
  {
   "cell_type": "markdown",
   "metadata": {
    "id": "PcnyvV8fAZyg"
   },
   "source": [
    "## 模型转换为ggml格式（FP16）"
   ]
  },
  {
   "cell_type": "code",
   "execution_count": null,
   "metadata": {
    "id": "Imj6Q3Pda_0o"
   },
   "outputs": [],
   "source": [
    "!cd llama.cpp && python convert.py llama-combined-ch"
   ]
  },
  {
   "cell_type": "markdown",
   "metadata": {
    "id": "SvGiYoEgAjdo"
   },
   "source": [
    "## 测试模型"
   ]
  },
  {
   "cell_type": "code",
   "execution_count": null,
   "metadata": {},
   "outputs": [],
   "source": [
    "!cd llama.cpp && chmod 777 main && ./main -m llama-combined-ch/ggml-model-f16.bin --color -f ./prompts/alpaca.txt -ins -c 2048 --temp 0.2 -n 256 --repeat_penalty 1.1"
   ]
  },
  {
   "cell_type": "markdown",
   "metadata": {
    "id": "JGcG9xxWAxRf"
   },
   "source": [
    "## 如果想量化模型请参考\n",
    "https://github.com/ymcui/Chinese-LLaMA-Alpaca/blob/main/notebooks/convert_and_quantize_chinese_llama_and_alpaca.ipynb"
   ]
  }
 ],
 "metadata": {
  "accelerator": "GPU",
  "colab": {
   "gpuType": "A100",
   "machine_shape": "hm",
   "provenance": []
  },
  "kernelspec": {
   "display_name": "Python 3 (ipykernel)",
   "language": "python",
   "name": "python3"
  },
  "language_info": {
   "codemirror_mode": {
    "name": "ipython",
    "version": 3
   },
   "file_extension": ".py",
   "mimetype": "text/x-python",
   "name": "python",
   "nbconvert_exporter": "python",
   "pygments_lexer": "ipython3",
   "version": "3.9.12"
  }
 },
 "nbformat": 4,
 "nbformat_minor": 1
}
